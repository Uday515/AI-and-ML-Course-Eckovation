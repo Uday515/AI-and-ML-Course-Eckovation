{
 "cells": [
  {
   "cell_type": "markdown",
   "metadata": {},
   "source": [
    "## Mean-Shift: Single Object Tracking in Images\n",
    "## Question:\n",
    "### Using OpenCV implement a single object tracker. Steps to be implemented:\n",
    "\n",
    "<b>a) Use a pre recorded video or your webcam to have a videoCapture object.\n",
    "    \n",
    "\n",
    "b) Mark the region of interest (roi or the object you want to track) using it coordinates in the first frame.<br>\n",
    "\n",
    "c) Calculate the histogram of the ROI.\n",
    "\n",
    "d) Iteratively calculate the histogram at each location (using cv2,calcBackProject)\n",
    "and then apply mean shift to get the updated location of the roi.\n",
    "    </b>"
   ]
  },
  {
   "cell_type": "markdown",
   "metadata": {},
   "source": [
    "## Importing Libraries "
   ]
  },
  {
   "cell_type": "code",
   "execution_count": 1,
   "metadata": {},
   "outputs": [],
   "source": [
    "import cv2\n",
    "import numpy as np\n",
    "import os\n",
    "import matplotlib.pyplot as plt\n",
    "import time\n",
    "from IPython.display import clear_output"
   ]
  },
  {
   "cell_type": "code",
   "execution_count": null,
   "metadata": {},
   "outputs": [
    {
     "data": {
      "image/png": "[encoded data removed]",
      "text/plain": [
       "<Figure size 432x288 with 1 Axes>"
      ]
     },
     "metadata": {
      "needs_background": "light"
     },
     "output_type": "display_data"
    }
   ],
   "source": [
    "video = cv2.VideoCapture(0)\n",
    "_, first_frame = video.read()\n",
    "# cv2.imshow(\"frame1\", first_frame)\n",
    "# cv2.waitKey(0)\n",
    "print(first_frame.shape)\n",
    "\n",
    "x = 150\n",
    "y = 150\n",
    "width = 200\n",
    "height = 200\n",
    "roi = first_frame[y:y+height, x:x+width]\n",
    "# cv2.imshow(\"ROI\", roi)\n",
    "# cv2.waitKey(0)\n",
    "\n",
    "hsv_roi = cv2.cvtColor(roi, cv2.COLOR_BGR2HSV)\n",
    "roi_hist = cv2.calcHist([hsv_roi], [0], None, [256], [0, 256])\n",
    "roi_hist = cv2.normalize(roi_hist, roi_hist, 0, 255, cv2.NORM_MINMAX)\n",
    "\n",
    "term_criteria = (cv2.TERM_CRITERIA_EPS | cv2.TERM_CRITERIA_COUNT, 10, 1)\n",
    "\n",
    "fig = plt.figure()\n",
    "while True:\n",
    "    _, frame = video.read()\n",
    "    hsv = cv2.cvtColor(frame, cv2.COLOR_BGR2HSV)\n",
    "    mask = cv2.calcBackProject([hsv], [0], roi_hist, [0, 360], 1)\n",
    "    \n",
    "    _, track_window = cv2.meanShift(mask, (x, y, width, height), term_criteria)\n",
    "    x, y, w, h = track_window\n",
    "    cv2.rectangle(frame, (x, y), (x+w, y+h), (0, 255, 0), 2)\n",
    "   \n",
    "    cv2.imshow(\"Mask\", mask)\n",
    "   \n",
    "    cv2.imshow(\"Frame\", frame)\n",
    "    \n",
    "    clear_output(wait=True)\n",
    "    histr = cv2.calcHist([frame],[0],None,[256],[0,256])\n",
    "    \n",
    "    plt.plot(histr)\n",
    "    plt.show()\n",
    "    \n",
    "    \n",
    "    key = cv2.waitKey(30)\n",
    "    if key == 113: #esc\n",
    "        video.release()\n",
    "        cv2.destroyAllWindows()\n",
    "\n",
    "        cv2.waitKey(1)\n",
    "        break"
   ]
  },
  {
   "cell_type": "code",
   "execution_count": null,
   "metadata": {},
   "outputs": [],
   "source": []
  }
 ],
 "metadata": {
  "kernelspec": {
   "display_name": "Python 3",
   "language": "python",
   "name": "python3"
  },
  "language_info": {
   "codemirror_mode": {
    "name": "ipython",
    "version": 3
   },
   "file_extension": ".py",
   "mimetype": "text/x-python",
   "name": "python",
   "nbconvert_exporter": "python",
   "pygments_lexer": "ipython3",
   "version": "3.6.10"
  }
 },
 "nbformat": 4,
 "nbformat_minor": 4
}
